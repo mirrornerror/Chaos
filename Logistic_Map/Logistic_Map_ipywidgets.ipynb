{
 "cells": [
  {
   "cell_type": "markdown",
   "metadata": {},
   "source": [
    "# Logistic Map with ipywidgets  \n",
    "binder: http://bit.ly/2PEL628"
   ]
  },
  {
   "cell_type": "code",
   "execution_count": 1,
   "metadata": {
    "ExecuteTime": {
     "end_time": "2019-12-14T23:21:25.225378Z",
     "start_time": "2019-12-14T23:21:24.623702Z"
    }
   },
   "outputs": [],
   "source": [
    "import numpy as np\n",
    "import matplotlib.pyplot as plt\n",
    "from ipywidgets import interactive_output, VBox, HBox, Label, interactive, Button\n",
    "from ipywidgets import Checkbox, IntSlider, FloatSlider, FloatRangeSlider, Layout\n",
    "from IPython.display import display\n",
    "import datetime\n",
    "%matplotlib inline"
   ]
  },
  {
   "cell_type": "markdown",
   "metadata": {},
   "source": [
    "### Equation:  \n",
    "#### x<sub>n+1</sub> = a * x<sub>n</sub> * (1 - x<sub>n</sub>)   \n",
    "0 <= a <= 4, n = 1, 2, 3...\n",
    "\n",
    "Variables are adjustable with ipywidgets sliders   \n",
    "AR: value of a  \n",
    "XR: value of x  \n",
    "X0: initial value of x  \n",
    "DOTS: pointillism  \n",
    "LINE: line drawing  \n",
    "LW: line width of line drawing  \n",
    "BT: button to save an image  "
   ]
  },
  {
   "cell_type": "code",
   "execution_count": 5,
   "metadata": {
    "ExecuteTime": {
     "end_time": "2019-12-14T23:22:32.860444Z",
     "start_time": "2019-12-14T23:22:32.065559Z"
    }
   },
   "outputs": [
    {
     "data": {
      "application/vnd.jupyter.widget-view+json": {
       "model_id": "ef27aa6522a24ee699f4ac45b4c72972",
       "version_major": 2,
       "version_minor": 0
      },
      "text/plain": [
       "VBox(children=(HBox(children=(Label(value='RANGE A:'), FloatRangeSlider(value=(1.0, 4.0), layout=Layout(width=…"
      ]
     },
     "metadata": {},
     "output_type": "display_data"
    },
    {
     "data": {
      "application/vnd.jupyter.widget-view+json": {
       "model_id": "e93719c600ef425bb6f205c802b3b19e",
       "version_major": 2,
       "version_minor": 0
      },
      "text/plain": [
       "Output()"
      ]
     },
     "metadata": {},
     "output_type": "display_data"
    }
   ],
   "source": [
    "def f(AR, XR, X0, N, DOTS, LINE, LW):\n",
    "    A = np.linspace(AR[0], AR[1], N)\n",
    "    x = X0\n",
    "    X = []\n",
    "    for a in A:\n",
    "        X.append(x)\n",
    "        x = x * a * (1 - x)\n",
    "\n",
    "    fig = plt.figure(figsize=(18,12))\n",
    "    ax = fig.add_subplot(111)\n",
    "    ax.set_xlim((AR[0], AR[1]))\n",
    "    ax.set_ylim((XR[0], XR[1]))\n",
    "    plt.xlabel('A', fontsize=18)\n",
    "    plt.ylabel('X', fontsize=18)\n",
    "    \n",
    "    if LINE:\n",
    "        ax.plot(A, X, linewidth=LW, color='red', alpha=0.6)\n",
    "    if DOTS:\n",
    "        ax.scatter(A, X, marker='o', s=0.05, color='black')\n",
    "    ax.scatter([A[0], A[-1]], [XR[0], XR[-1]], alpha=0) # dummy plot for empty plots\n",
    "\n",
    "AR = FloatRangeSlider(value=[1.0, 4.0], min=0.0, max=4, step=0.01, layout=Layout(width='60%'))\n",
    "XR = FloatRangeSlider(value=[0, 1], min=0.0, max=1.0, step=0.01, layout=Layout(width='60%'))\n",
    "X0 = FloatSlider(value=0.7, min=0.0, max=1.0, step=0.01, layout=Layout(width='60%'))\n",
    "N = IntSlider(value=20000, min=100, max=500000, step=100, layout=Layout(width='60%'))\n",
    "DOTS = Checkbox(value=True, description='DOTS', disabled=False, layout=Layout(width='15%'))\n",
    "LINE = Checkbox(value=False, description='LINE', disabled=False, layout=Layout(width='20%'))\n",
    "LW = FloatSlider(value=0.2, min=0.01, max=1.0, step=0.01, layout=Layout(width='30%'))\n",
    "BT = Button(value=False, description=\"Save image\")\n",
    "\n",
    "S1 = HBox([Label('RANGE A:'), AR])\n",
    "S2 = HBox([Label('RANGE X:'), XR])\n",
    "S3 = HBox([Label('X INIT VALUE:'), X0])\n",
    "S4 = HBox([Label('N STEPS:'), N])\n",
    "S5 = HBox([Label('DRAW STYLE:'), DOTS, LINE, Label('LINE WIDTH:'), LW, BT])\n",
    "UI = VBox([S1, S2, S3, S4, S5])\n",
    "\n",
    "W = interactive_output(f, {'AR':AR, 'XR':XR, 'X0':X0, 'N':N, 'DOTS':DOTS, 'LINE':LINE, 'LW': LW})\n",
    "display(UI, W)\n",
    "\n",
    "def button_pressed(b):\n",
    "    f(AR.value, XR.value, X0.value, N.value, DOTS.value, LINE.value, LW.value)\n",
    "    d = str(datetime.datetime.now()).split('.')[0]\n",
    "    plt.savefig('logistic' + d + '.png')\n",
    "    plt.close()\n",
    "    print('image saved at ' + d)\n",
    "    \n",
    "BT.on_click(button_pressed)"
   ]
  },
  {
   "cell_type": "markdown",
   "metadata": {},
   "source": []
  }
 ],
 "metadata": {
  "_draft": {
   "nbviewer_url": "https://gist.github.com/927644d00d7d12998a0e093131401b21"
  },
  "gist": {
   "data": {
    "description": "Logistic Map with ipywidgets",
    "public": true
   },
   "id": "927644d00d7d12998a0e093131401b21"
  },
  "kernelspec": {
   "display_name": "py36",
   "language": "python",
   "name": "py36"
  },
  "language_info": {
   "codemirror_mode": {
    "name": "ipython",
    "version": 3
   },
   "file_extension": ".py",
   "mimetype": "text/x-python",
   "name": "python",
   "nbconvert_exporter": "python",
   "pygments_lexer": "ipython3",
   "version": "3.6.7"
  }
 },
 "nbformat": 4,
 "nbformat_minor": 2
}
