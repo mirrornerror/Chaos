{
 "cells": [
  {
   "cell_type": "code",
   "execution_count": 2,
   "metadata": {
    "ExecuteTime": {
     "end_time": "2019-12-24T11:57:39.372430Z",
     "start_time": "2019-12-24T11:57:38.953494Z"
    }
   },
   "outputs": [
    {
     "data": {
      "application/vnd.jupyter.widget-view+json": {
       "model_id": "dfb9677266c84a3c841dfeeb9ceebf1d",
       "version_major": 2,
       "version_minor": 0
      },
      "text/plain": [
       "interactive(children=(IntSlider(value=25, description='elev'), IntSlider(value=-70, description='azim', min=-1…"
      ]
     },
     "metadata": {},
     "output_type": "display_data"
    }
   ],
   "source": [
    "import numpy as np\n",
    "import matplotlib.pyplot as plt\n",
    "from mpl_toolkits.mplot3d import Axes3D\n",
    "from ipywidgets import interact\n",
    "# exp\n",
    "from ipywidgets import interact\n",
    "\n",
    "%matplotlib inline\n",
    "\n",
    "@interact(elev=(0, 100, 1), azim=(-100, 100, 1))\n",
    "def spiral(elev=25, azim=-70):\n",
    "    fig = plt.figure(figsize=(10, 10))\n",
    "    ax = fig.add_subplot(111, projection='3d')\n",
    "    ax.view_init(elev=elev, azim=-azim)\n",
    "    g = 1\n",
    "    ax.set_xlim(-g, g)\n",
    "    ax.set_ylim(-g, g)\n",
    "    ax.set_zlim(-g, g)\n",
    "    ax.set_xlabel('X')\n",
    "    ax.set_ylabel('Y')\n",
    "    ax.set_zlabel('Z')\n",
    "    ax.xaxis.pane.set_facecolor('white')\n",
    "    ax.yaxis.pane.set_facecolor('white')\n",
    "    ax.zaxis.pane.set_facecolor('white')\n",
    "\n",
    "    t = np.linspace(0, np.pi*2, 101)\n",
    "    step = np.linspace(-1, 1, 101)\n",
    "    c1 = np.cos(t)\n",
    "    s1 = np.sin(t)\n",
    "\n",
    "    ax.plot(c1, s1, step, c='blue')\n",
    "    ax.plot(-step, s1, c1, c='orange')\n",
    "    ax.plot(-c1, -s1, step, c='red')\n",
    "    ax.plot(step, s1, -c1, c='green')\n",
    "    "
   ]
  },
  {
   "cell_type": "code",
   "execution_count": null,
   "metadata": {},
   "outputs": [],
   "source": []
  }
 ],
 "metadata": {
  "kernelspec": {
   "display_name": "py36",
   "language": "python",
   "name": "py36"
  },
  "language_info": {
   "codemirror_mode": {
    "name": "ipython",
    "version": 3
   },
   "file_extension": ".py",
   "mimetype": "text/x-python",
   "name": "python",
   "nbconvert_exporter": "python",
   "pygments_lexer": "ipython3",
   "version": "3.6.7"
  }
 },
 "nbformat": 4,
 "nbformat_minor": 2
}
